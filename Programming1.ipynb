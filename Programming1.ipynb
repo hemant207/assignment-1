{
  "nbformat": 4,
  "nbformat_minor": 0,
  "metadata": {
    "colab": {
      "name": "Untitled10.ipynb",
      "provenance": [],
      "authorship_tag": "ABX9TyP4ZyKX4yg9Kmf5l2Z/iLsg",
      "include_colab_link": true
    },
    "kernelspec": {
      "name": "python3",
      "display_name": "Python 3"
    },
    "language_info": {
      "name": "python"
    }
  },
  "cells": [
    {
      "cell_type": "markdown",
      "metadata": {
        "id": "view-in-github",
        "colab_type": "text"
      },
      "source": [
        "<a href=\"https://colab.research.google.com/github/hemant207/assignment-1/blob/main/Programming1.ipynb\" target=\"_parent\"><img src=\"https://colab.research.google.com/assets/colab-badge.svg\" alt=\"Open In Colab\"/></a>"
      ]
    },
    {
      "cell_type": "markdown",
      "metadata": {
        "id": "DPlDY9_byBHp"
      },
      "source": [
        "1. Write a Python program to print &quot;Hello Python&quot;?\n"
      ]
    },
    {
      "cell_type": "code",
      "metadata": {
        "colab": {
          "base_uri": "https://localhost:8080/"
        },
        "id": "UourDRvEyEgu",
        "outputId": "da14281c-12f5-43db-fc50-ae522532c112"
      },
      "source": [
        "print(\"Hello Python\")"
      ],
      "execution_count": 1,
      "outputs": [
        {
          "output_type": "stream",
          "text": [
            "Hello Python\n"
          ],
          "name": "stdout"
        }
      ]
    },
    {
      "cell_type": "markdown",
      "metadata": {
        "id": "M2KcNOEcAcvu"
      },
      "source": [
        "2. Write a Python program to do arithmetical operations addition and division.?\n"
      ]
    },
    {
      "cell_type": "code",
      "metadata": {
        "colab": {
          "base_uri": "https://localhost:8080/"
        },
        "id": "JDN49NewySf_",
        "outputId": "d0d1e965-9c06-4612-8d12-cd1dd8bece37"
      },
      "source": [
        "a = 10\n",
        "b = 12\n",
        "print(\"this is addition\",a+b)\n",
        "print(\"this is division\",a/b)"
      ],
      "execution_count": 5,
      "outputs": [
        {
          "output_type": "stream",
          "text": [
            "this is addition 22\n",
            "this is division 0.8333333333333334\n"
          ],
          "name": "stdout"
        }
      ]
    },
    {
      "cell_type": "markdown",
      "metadata": {
        "id": "esk8EmTfAfXh"
      },
      "source": [
        "3. Write a Python program to find the area of a triangle?\n"
      ]
    },
    {
      "cell_type": "code",
      "metadata": {
        "colab": {
          "base_uri": "https://localhost:8080/"
        },
        "id": "sg8IeLldyTQv",
        "outputId": "b3b48674-004c-4b5c-adf3-f8cde1fbef73"
      },
      "source": [
        "a=int(input(\"type a :\"))\n",
        "b=int(input(\"type b :\"))\n",
        "def area(a,b):\n",
        "  return (a*b)/2\n",
        "\n",
        "area(a,b)"
      ],
      "execution_count": 11,
      "outputs": [
        {
          "output_type": "stream",
          "text": [
            "type a :6\n",
            "type b :12\n"
          ],
          "name": "stdout"
        },
        {
          "output_type": "execute_result",
          "data": {
            "text/plain": [
              "36.0"
            ]
          },
          "metadata": {
            "tags": []
          },
          "execution_count": 11
        }
      ]
    },
    {
      "cell_type": "markdown",
      "metadata": {
        "id": "1YeUJDNiAiIg"
      },
      "source": [
        "4. Write a Python program to swap two variables?"
      ]
    },
    {
      "cell_type": "code",
      "metadata": {
        "colab": {
          "base_uri": "https://localhost:8080/"
        },
        "id": "G9nYmPpHyTEF",
        "outputId": "83b31e45-ec69-4d40-ad5e-279d22b0fb6e"
      },
      "source": [
        "a=12\n",
        "b=13\n",
        "a,b = b,a\n",
        "print(a,b)"
      ],
      "execution_count": 22,
      "outputs": [
        {
          "output_type": "stream",
          "text": [
            "13 12\n"
          ],
          "name": "stdout"
        }
      ]
    },
    {
      "cell_type": "markdown",
      "metadata": {
        "id": "FYPfxgWQAm0A"
      },
      "source": [
        "\n",
        "5. Write a Python program to generate a random number?"
      ]
    },
    {
      "cell_type": "code",
      "metadata": {
        "colab": {
          "base_uri": "https://localhost:8080/"
        },
        "id": "1miXhXLa5BHx",
        "outputId": "03b0d49d-ae38-4679-c655-f4af09982759"
      },
      "source": [
        "import random\n",
        "random.randint(0,100)"
      ],
      "execution_count": 28,
      "outputs": [
        {
          "output_type": "execute_result",
          "data": {
            "text/plain": [
              "100"
            ]
          },
          "metadata": {
            "tags": []
          },
          "execution_count": 28
        }
      ]
    },
    {
      "cell_type": "code",
      "metadata": {
        "colab": {
          "base_uri": "https://localhost:8080/"
        },
        "id": "yvFyYVwO5E4H",
        "outputId": "2ee7ad68-736f-490a-d4a1-cda818964f08"
      },
      "source": [
        ""
      ],
      "execution_count": 27,
      "outputs": [
        {
          "output_type": "execute_result",
          "data": {
            "text/plain": [
              "44"
            ]
          },
          "metadata": {
            "tags": []
          },
          "execution_count": 27
        }
      ]
    }
  ]
}