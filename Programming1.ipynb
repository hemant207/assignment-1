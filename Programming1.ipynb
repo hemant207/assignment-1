{
  "nbformat": 4,
  "nbformat_minor": 0,
  "metadata": {
    "colab": {
      "name": "Untitled10.ipynb",
      "provenance": [],
      "authorship_tag": "ABX9TyMIf4U9rrxDUN4mtpq1rRBw",
      "include_colab_link": true
    },
    "kernelspec": {
      "name": "python3",
      "display_name": "Python 3"
    },
    "language_info": {
      "name": "python"
    }
  },
  "cells": [
    {
      "cell_type": "markdown",
      "metadata": {
        "id": "view-in-github",
        "colab_type": "text"
      },
      "source": [
        "<a href=\"https://colab.research.google.com/github/hemant207/assignment-1/blob/main/Programming1.ipynb\" target=\"_parent\"><img src=\"https://colab.research.google.com/assets/colab-badge.svg\" alt=\"Open In Colab\"/></a>"
      ]
    },
    {
      "cell_type": "markdown",
      "metadata": {
        "id": "DPlDY9_byBHp"
      },
      "source": [
        "1. Write a Python program to print &quot;Hello Python&quot;?\n"
      ]
    },
    {
      "cell_type": "code",
      "metadata": {
        "colab": {
          "base_uri": "https://localhost:8080/"
        },
        "id": "UourDRvEyEgu",
        "outputId": "fd32d9b1-eac4-4f07-908d-91fa38f35744"
      },
      "source": [
        "print(\"Hello Python\")"
      ],
      "execution_count": 1,
      "outputs": [
        {
          "output_type": "stream",
          "text": [
            "Hello Python\n"
          ],
          "name": "stdout"
        }
      ]
    },
    {
      "cell_type": "markdown",
      "metadata": {
        "id": "M2KcNOEcAcvu"
      },
      "source": [
        "2. Write a Python program to do arithmetical operations addition and division.?\n"
      ]
    },
    {
      "cell_type": "code",
      "metadata": {
        "colab": {
          "base_uri": "https://localhost:8080/"
        },
        "id": "JDN49NewySf_",
        "outputId": "238039a6-799f-48c3-ad55-18361a3f6d09"
      },
      "source": [
        "a = 10\n",
        "b = 12\n",
        "print(\"this is addition\",a+b)\n",
        "print(\"this is division\",a/b)"
      ],
      "execution_count": 2,
      "outputs": [
        {
          "output_type": "stream",
          "text": [
            "this is addition 22\n",
            "this is division 0.8333333333333334\n"
          ],
          "name": "stdout"
        }
      ]
    },
    {
      "cell_type": "markdown",
      "metadata": {
        "id": "esk8EmTfAfXh"
      },
      "source": [
        "3. Write a Python program to find the area of a triangle?\n"
      ]
    },
    {
      "cell_type": "code",
      "metadata": {
        "colab": {
          "base_uri": "https://localhost:8080/"
        },
        "id": "sg8IeLldyTQv",
        "outputId": "e2cbff51-fe4b-4c72-90a4-31045481830c"
      },
      "source": [
        "a=int(input(\"type a :\"))\n",
        "b=int(input(\"type b :\"))\n",
        "def area(a,b):\n",
        "  return (a*b)/2\n",
        "\n",
        "area(a,b)"
      ],
      "execution_count": 3,
      "outputs": [
        {
          "output_type": "stream",
          "text": [
            "type a :12\n",
            "type b :24\n"
          ],
          "name": "stdout"
        },
        {
          "output_type": "execute_result",
          "data": {
            "text/plain": [
              "144.0"
            ]
          },
          "metadata": {
            "tags": []
          },
          "execution_count": 3
        }
      ]
    },
    {
      "cell_type": "markdown",
      "metadata": {
        "id": "1YeUJDNiAiIg"
      },
      "source": [
        "4. Write a Python program to swap two variables?"
      ]
    },
    {
      "cell_type": "code",
      "metadata": {
        "colab": {
          "base_uri": "https://localhost:8080/"
        },
        "id": "G9nYmPpHyTEF",
        "outputId": "629f057f-2fe8-4f5f-a3eb-ab6fba1a56d3"
      },
      "source": [
        "a=12\n",
        "b=13\n",
        "a,b = b,a\n",
        "print(a,b)"
      ],
      "execution_count": 4,
      "outputs": [
        {
          "output_type": "stream",
          "text": [
            "13 12\n"
          ],
          "name": "stdout"
        }
      ]
    },
    {
      "cell_type": "markdown",
      "metadata": {
        "id": "FYPfxgWQAm0A"
      },
      "source": [
        "\n",
        "5. Write a Python program to generate a random number?"
      ]
    },
    {
      "cell_type": "code",
      "metadata": {
        "colab": {
          "base_uri": "https://localhost:8080/"
        },
        "id": "1miXhXLa5BHx",
        "outputId": "e22208ba-0a69-4cdd-fe6d-1a0fd17af9ba"
      },
      "source": [
        "import random\n",
        "random.randint(0,100)"
      ],
      "execution_count": 5,
      "outputs": [
        {
          "output_type": "execute_result",
          "data": {
            "text/plain": [
              "82"
            ]
          },
          "metadata": {
            "tags": []
          },
          "execution_count": 5
        }
      ]
    }
  ]
}